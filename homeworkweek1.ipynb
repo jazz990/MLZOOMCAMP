{
 "cells": [
  {
   "cell_type": "code",
   "execution_count": 8,
   "id": "16e58ea0",
   "metadata": {},
   "outputs": [
    {
     "name": "stdout",
     "output_type": "stream",
     "text": [
      "1.20.3\n"
     ]
    }
   ],
   "source": [
    "import numpy as np\n",
    "print(np.__version__)\n",
    "\n"
   ]
  },
  {
   "cell_type": "code",
   "execution_count": 7,
   "id": "f3494c93",
   "metadata": {},
   "outputs": [
    {
     "name": "stdout",
     "output_type": "stream",
     "text": [
      "1.3.2\n"
     ]
    }
   ],
   "source": [
    "import pandas as pd\n",
    "print(pd.__version__)"
   ]
  },
  {
   "cell_type": "code",
   "execution_count": 4,
   "id": "fd30fc5d",
   "metadata": {},
   "outputs": [
    {
     "data": {
      "text/plain": [
       "('data.csv', <http.client.HTTPMessage at 0x13e55738f10>)"
      ]
     },
     "execution_count": 4,
     "metadata": {},
     "output_type": "execute_result"
    }
   ],
   "source": [
    "import urllib.request\n",
    "url = 'https://raw.githubusercontent.com/alexeygrigorev/mlbookcamp-code/master/chapter-02-car-price/data.csv'\n",
    "filename = 'data.csv'\n",
    "urllib.request.urlretrieve(url,filename)"
   ]
  },
  {
   "cell_type": "markdown",
   "id": "99eec3e8",
   "metadata": {},
   "source": [
    "###  1 Average price of BMW cars"
   ]
  },
  {
   "cell_type": "code",
   "execution_count": null,
   "id": "170a45a2",
   "metadata": {},
   "outputs": [],
   "source": [
    "df=pd.read_csv('data.csv')"
   ]
  },
  {
   "cell_type": "code",
   "execution_count": 118,
   "id": "176601ca",
   "metadata": {},
   "outputs": [
    {
     "name": "stdout",
     "output_type": "stream",
     "text": [
      "Average price of BMW cars is $ 61546.7635.\n"
     ]
    }
   ],
   "source": [
    "average_price_BMW_cars=df[df[\"Make\"]==\"BMW\"].MSRP.mean()\n",
    "print(f\"Average price of BMW cars is $ {round(average_price_BMW_cars,4)}.\")"
   ]
  },
  {
   "cell_type": "code",
   "execution_count": 33,
   "id": "83f85cf1",
   "metadata": {},
   "outputs": [],
   "source": [
    "after_year=df[df[\"Year\"]>=2015].sort_values(\"Year\")\n",
    "missing_hp=df[df[\"Year\"]>=2015].sort_values(\"Year\")['Engine HP'].isna().sum()"
   ]
  },
  {
   "cell_type": "code",
   "execution_count": 37,
   "id": "3e770d69",
   "metadata": {},
   "outputs": [
    {
     "name": "stdout",
     "output_type": "stream",
     "text": [
      "273\n",
      "273\n"
     ]
    }
   ],
   "source": [
    "mean_hp_before=df[df[\"Year\"]>=2015].sort_values(\"Year\")['Engine HP'].mean()\n",
    "after_year['Engine HP']=df[df[\"Year\"]>=2015].sort_values(\"Year\")['Engine HP'].fillna(mean_hp_before)\n",
    "mean_hp_after=after_year['Engine HP'].mean()\n",
    "print(round(mean_hp_before))\n",
    "print(round(mean_hp_after))"
   ]
  },
  {
   "cell_type": "code",
   "execution_count": 119,
   "id": "67e2961c",
   "metadata": {},
   "outputs": [
    {
     "data": {
      "text/html": [
       "<div>\n",
       "<style scoped>\n",
       "    .dataframe tbody tr th:only-of-type {\n",
       "        vertical-align: middle;\n",
       "    }\n",
       "\n",
       "    .dataframe tbody tr th {\n",
       "        vertical-align: top;\n",
       "    }\n",
       "\n",
       "    .dataframe thead th {\n",
       "        text-align: right;\n",
       "    }\n",
       "</style>\n",
       "<table border=\"1\" class=\"dataframe\">\n",
       "  <thead>\n",
       "    <tr style=\"text-align: right;\">\n",
       "      <th></th>\n",
       "      <th>Engine HP</th>\n",
       "      <th>Engine Cylinders</th>\n",
       "      <th>highway MPG</th>\n",
       "    </tr>\n",
       "  </thead>\n",
       "  <tbody>\n",
       "    <tr>\n",
       "      <th>2921</th>\n",
       "      <td>325.0</td>\n",
       "      <td>8.0</td>\n",
       "      <td>15</td>\n",
       "    </tr>\n",
       "    <tr>\n",
       "      <th>3505</th>\n",
       "      <td>563.0</td>\n",
       "      <td>12.0</td>\n",
       "      <td>19</td>\n",
       "    </tr>\n",
       "    <tr>\n",
       "      <th>5275</th>\n",
       "      <td>563.0</td>\n",
       "      <td>12.0</td>\n",
       "      <td>21</td>\n",
       "    </tr>\n",
       "    <tr>\n",
       "      <th>5279</th>\n",
       "      <td>563.0</td>\n",
       "      <td>12.0</td>\n",
       "      <td>20</td>\n",
       "    </tr>\n",
       "    <tr>\n",
       "      <th>7443</th>\n",
       "      <td>322.0</td>\n",
       "      <td>12.0</td>\n",
       "      <td>15</td>\n",
       "    </tr>\n",
       "    <tr>\n",
       "      <th>7553</th>\n",
       "      <td>453.0</td>\n",
       "      <td>12.0</td>\n",
       "      <td>19</td>\n",
       "    </tr>\n",
       "    <tr>\n",
       "      <th>11448</th>\n",
       "      <td>624.0</td>\n",
       "      <td>12.0</td>\n",
       "      <td>21</td>\n",
       "    </tr>\n",
       "  </tbody>\n",
       "</table>\n",
       "</div>"
      ],
      "text/plain": [
       "       Engine HP  Engine Cylinders  highway MPG\n",
       "2921       325.0               8.0           15\n",
       "3505       563.0              12.0           19\n",
       "5275       563.0              12.0           21\n",
       "5279       563.0              12.0           20\n",
       "7443       322.0              12.0           15\n",
       "7553       453.0              12.0           19\n",
       "11448      624.0              12.0           21"
      ]
     },
     "execution_count": 119,
     "metadata": {},
     "output_type": "execute_result"
    }
   ],
   "source": [
    "rolls_royce=df.loc[(df[\"Make\"]==\"Rolls-Royce\"),[\"Engine HP\", \"Engine Cylinders\", \"highway MPG\"]].drop_duplicates()\n",
    "rolls_royce"
   ]
  },
  {
   "cell_type": "code",
   "execution_count": 120,
   "id": "9cb95b5d",
   "metadata": {},
   "outputs": [
    {
     "data": {
      "text/plain": [
       "array([[ 5.17815728e-05,  9.06587044e-04, -1.92984188e-03],\n",
       "       [ 9.06587044e-04,  1.05723058e-01, -8.87084092e-02],\n",
       "       [-1.92984188e-03, -8.87084092e-02,  1.05900809e-01]])"
      ]
     },
     "execution_count": 120,
     "metadata": {},
     "output_type": "execute_result"
    }
   ],
   "source": [
    "x=np.array(rolls_royce)\n",
    "x.astype(int)\n",
    "t=x.T\n",
    "XTX=np.matmul(t,x).astype(int)\n",
    "inverse_xtx=np.linalg.inv(XTX)\n",
    "inverse_xtx"
   ]
  },
  {
   "cell_type": "code",
   "execution_count": 121,
   "id": "d47057ee",
   "metadata": {},
   "outputs": [
    {
     "data": {
      "text/plain": [
       "0.032212320677486195"
      ]
     },
     "execution_count": 121,
     "metadata": {},
     "output_type": "execute_result"
    }
   ],
   "source": [
    "inverse_xtx.sum()"
   ]
  },
  {
   "cell_type": "code",
   "execution_count": 122,
   "id": "7a2579f2",
   "metadata": {},
   "outputs": [
    {
     "data": {
      "text/plain": [
       "0.19989598183186175"
      ]
     },
     "execution_count": 122,
     "metadata": {},
     "output_type": "execute_result"
    }
   ],
   "source": [
    "y=[1000, 1100, 900, 1200, 1000, 850, 1300]\n",
    "w=np.matmul(np.matmul(inverse_xtx,t),y)\n",
    "w[0]\n"
   ]
  }
 ],
 "metadata": {
  "kernelspec": {
   "display_name": "Python 3 (ipykernel)",
   "language": "python",
   "name": "python3"
  },
  "language_info": {
   "codemirror_mode": {
    "name": "ipython",
    "version": 3
   },
   "file_extension": ".py",
   "mimetype": "text/x-python",
   "name": "python",
   "nbconvert_exporter": "python",
   "pygments_lexer": "ipython3",
   "version": "3.8.11"
  }
 },
 "nbformat": 4,
 "nbformat_minor": 5
}
